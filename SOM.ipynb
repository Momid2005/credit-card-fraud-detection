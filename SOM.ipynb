{
 "cells": [
  {
   "cell_type": "markdown",
   "id": "95aee071",
   "metadata": {},
   "source": [
    "# Import libraries"
   ]
  },
  {
   "cell_type": "code",
   "execution_count": 66,
   "id": "3daf9599",
   "metadata": {},
   "outputs": [],
   "source": [
    "import pandas as pd\n",
    "import numpy as np\n",
    "from sklearn.preprocessing import MinMaxScaler\n",
    "from minisom import MiniSom\n",
    "import matplotlib.pyplot as plt\n",
    "from pylab import pcolor, colorbar"
   ]
  },
  {
   "cell_type": "markdown",
   "id": "e9a5c350",
   "metadata": {},
   "source": [
    "# Import dataset"
   ]
  },
  {
   "cell_type": "code",
   "execution_count": 67,
   "id": "e859341a",
   "metadata": {},
   "outputs": [
    {
     "data": {
      "text/html": [
       "<div>\n",
       "<style scoped>\n",
       "    .dataframe tbody tr th:only-of-type {\n",
       "        vertical-align: middle;\n",
       "    }\n",
       "\n",
       "    .dataframe tbody tr th {\n",
       "        vertical-align: top;\n",
       "    }\n",
       "\n",
       "    .dataframe thead th {\n",
       "        text-align: right;\n",
       "    }\n",
       "</style>\n",
       "<table border=\"1\" class=\"dataframe\">\n",
       "  <thead>\n",
       "    <tr style=\"text-align: right;\">\n",
       "      <th></th>\n",
       "      <th>CustomerID</th>\n",
       "      <th>A1</th>\n",
       "      <th>A2</th>\n",
       "      <th>A3</th>\n",
       "      <th>A4</th>\n",
       "      <th>A5</th>\n",
       "      <th>A6</th>\n",
       "      <th>A7</th>\n",
       "      <th>A8</th>\n",
       "      <th>A9</th>\n",
       "      <th>A10</th>\n",
       "      <th>A11</th>\n",
       "      <th>A12</th>\n",
       "      <th>A13</th>\n",
       "      <th>A14</th>\n",
       "      <th>Class</th>\n",
       "    </tr>\n",
       "  </thead>\n",
       "  <tbody>\n",
       "    <tr>\n",
       "      <th>0</th>\n",
       "      <td>15776156</td>\n",
       "      <td>1</td>\n",
       "      <td>22.08</td>\n",
       "      <td>11.460</td>\n",
       "      <td>2</td>\n",
       "      <td>4</td>\n",
       "      <td>4</td>\n",
       "      <td>1.585</td>\n",
       "      <td>0</td>\n",
       "      <td>0</td>\n",
       "      <td>0</td>\n",
       "      <td>1</td>\n",
       "      <td>2</td>\n",
       "      <td>100</td>\n",
       "      <td>1213</td>\n",
       "      <td>0</td>\n",
       "    </tr>\n",
       "    <tr>\n",
       "      <th>1</th>\n",
       "      <td>15739548</td>\n",
       "      <td>0</td>\n",
       "      <td>22.67</td>\n",
       "      <td>7.000</td>\n",
       "      <td>2</td>\n",
       "      <td>8</td>\n",
       "      <td>4</td>\n",
       "      <td>0.165</td>\n",
       "      <td>0</td>\n",
       "      <td>0</td>\n",
       "      <td>0</td>\n",
       "      <td>0</td>\n",
       "      <td>2</td>\n",
       "      <td>160</td>\n",
       "      <td>1</td>\n",
       "      <td>0</td>\n",
       "    </tr>\n",
       "    <tr>\n",
       "      <th>2</th>\n",
       "      <td>15662854</td>\n",
       "      <td>0</td>\n",
       "      <td>29.58</td>\n",
       "      <td>1.750</td>\n",
       "      <td>1</td>\n",
       "      <td>4</td>\n",
       "      <td>4</td>\n",
       "      <td>1.250</td>\n",
       "      <td>0</td>\n",
       "      <td>0</td>\n",
       "      <td>0</td>\n",
       "      <td>1</td>\n",
       "      <td>2</td>\n",
       "      <td>280</td>\n",
       "      <td>1</td>\n",
       "      <td>0</td>\n",
       "    </tr>\n",
       "    <tr>\n",
       "      <th>3</th>\n",
       "      <td>15687688</td>\n",
       "      <td>0</td>\n",
       "      <td>21.67</td>\n",
       "      <td>11.500</td>\n",
       "      <td>1</td>\n",
       "      <td>5</td>\n",
       "      <td>3</td>\n",
       "      <td>0.000</td>\n",
       "      <td>1</td>\n",
       "      <td>1</td>\n",
       "      <td>11</td>\n",
       "      <td>1</td>\n",
       "      <td>2</td>\n",
       "      <td>0</td>\n",
       "      <td>1</td>\n",
       "      <td>1</td>\n",
       "    </tr>\n",
       "    <tr>\n",
       "      <th>4</th>\n",
       "      <td>15715750</td>\n",
       "      <td>1</td>\n",
       "      <td>20.17</td>\n",
       "      <td>8.170</td>\n",
       "      <td>2</td>\n",
       "      <td>6</td>\n",
       "      <td>4</td>\n",
       "      <td>1.960</td>\n",
       "      <td>1</td>\n",
       "      <td>1</td>\n",
       "      <td>14</td>\n",
       "      <td>0</td>\n",
       "      <td>2</td>\n",
       "      <td>60</td>\n",
       "      <td>159</td>\n",
       "      <td>1</td>\n",
       "    </tr>\n",
       "    <tr>\n",
       "      <th>...</th>\n",
       "      <td>...</td>\n",
       "      <td>...</td>\n",
       "      <td>...</td>\n",
       "      <td>...</td>\n",
       "      <td>...</td>\n",
       "      <td>...</td>\n",
       "      <td>...</td>\n",
       "      <td>...</td>\n",
       "      <td>...</td>\n",
       "      <td>...</td>\n",
       "      <td>...</td>\n",
       "      <td>...</td>\n",
       "      <td>...</td>\n",
       "      <td>...</td>\n",
       "      <td>...</td>\n",
       "      <td>...</td>\n",
       "    </tr>\n",
       "    <tr>\n",
       "      <th>685</th>\n",
       "      <td>15808223</td>\n",
       "      <td>1</td>\n",
       "      <td>31.57</td>\n",
       "      <td>10.500</td>\n",
       "      <td>2</td>\n",
       "      <td>14</td>\n",
       "      <td>4</td>\n",
       "      <td>6.500</td>\n",
       "      <td>1</td>\n",
       "      <td>0</td>\n",
       "      <td>0</td>\n",
       "      <td>0</td>\n",
       "      <td>2</td>\n",
       "      <td>0</td>\n",
       "      <td>1</td>\n",
       "      <td>1</td>\n",
       "    </tr>\n",
       "    <tr>\n",
       "      <th>686</th>\n",
       "      <td>15769980</td>\n",
       "      <td>1</td>\n",
       "      <td>20.67</td>\n",
       "      <td>0.415</td>\n",
       "      <td>2</td>\n",
       "      <td>8</td>\n",
       "      <td>4</td>\n",
       "      <td>0.125</td>\n",
       "      <td>0</td>\n",
       "      <td>0</td>\n",
       "      <td>0</td>\n",
       "      <td>0</td>\n",
       "      <td>2</td>\n",
       "      <td>0</td>\n",
       "      <td>45</td>\n",
       "      <td>0</td>\n",
       "    </tr>\n",
       "    <tr>\n",
       "      <th>687</th>\n",
       "      <td>15675450</td>\n",
       "      <td>0</td>\n",
       "      <td>18.83</td>\n",
       "      <td>9.540</td>\n",
       "      <td>2</td>\n",
       "      <td>6</td>\n",
       "      <td>4</td>\n",
       "      <td>0.085</td>\n",
       "      <td>1</td>\n",
       "      <td>0</td>\n",
       "      <td>0</td>\n",
       "      <td>0</td>\n",
       "      <td>2</td>\n",
       "      <td>100</td>\n",
       "      <td>1</td>\n",
       "      <td>1</td>\n",
       "    </tr>\n",
       "    <tr>\n",
       "      <th>688</th>\n",
       "      <td>15776494</td>\n",
       "      <td>0</td>\n",
       "      <td>27.42</td>\n",
       "      <td>14.500</td>\n",
       "      <td>2</td>\n",
       "      <td>14</td>\n",
       "      <td>8</td>\n",
       "      <td>3.085</td>\n",
       "      <td>1</td>\n",
       "      <td>1</td>\n",
       "      <td>1</td>\n",
       "      <td>0</td>\n",
       "      <td>2</td>\n",
       "      <td>120</td>\n",
       "      <td>12</td>\n",
       "      <td>1</td>\n",
       "    </tr>\n",
       "    <tr>\n",
       "      <th>689</th>\n",
       "      <td>15592412</td>\n",
       "      <td>1</td>\n",
       "      <td>41.00</td>\n",
       "      <td>0.040</td>\n",
       "      <td>2</td>\n",
       "      <td>10</td>\n",
       "      <td>4</td>\n",
       "      <td>0.040</td>\n",
       "      <td>0</td>\n",
       "      <td>1</td>\n",
       "      <td>1</td>\n",
       "      <td>0</td>\n",
       "      <td>1</td>\n",
       "      <td>560</td>\n",
       "      <td>1</td>\n",
       "      <td>1</td>\n",
       "    </tr>\n",
       "  </tbody>\n",
       "</table>\n",
       "<p>690 rows × 16 columns</p>\n",
       "</div>"
      ],
      "text/plain": [
       "     CustomerID  A1     A2      A3  A4  A5  A6     A7  A8  A9  A10  A11  A12  \\\n",
       "0      15776156   1  22.08  11.460   2   4   4  1.585   0   0    0    1    2   \n",
       "1      15739548   0  22.67   7.000   2   8   4  0.165   0   0    0    0    2   \n",
       "2      15662854   0  29.58   1.750   1   4   4  1.250   0   0    0    1    2   \n",
       "3      15687688   0  21.67  11.500   1   5   3  0.000   1   1   11    1    2   \n",
       "4      15715750   1  20.17   8.170   2   6   4  1.960   1   1   14    0    2   \n",
       "..          ...  ..    ...     ...  ..  ..  ..    ...  ..  ..  ...  ...  ...   \n",
       "685    15808223   1  31.57  10.500   2  14   4  6.500   1   0    0    0    2   \n",
       "686    15769980   1  20.67   0.415   2   8   4  0.125   0   0    0    0    2   \n",
       "687    15675450   0  18.83   9.540   2   6   4  0.085   1   0    0    0    2   \n",
       "688    15776494   0  27.42  14.500   2  14   8  3.085   1   1    1    0    2   \n",
       "689    15592412   1  41.00   0.040   2  10   4  0.040   0   1    1    0    1   \n",
       "\n",
       "     A13   A14  Class  \n",
       "0    100  1213      0  \n",
       "1    160     1      0  \n",
       "2    280     1      0  \n",
       "3      0     1      1  \n",
       "4     60   159      1  \n",
       "..   ...   ...    ...  \n",
       "685    0     1      1  \n",
       "686    0    45      0  \n",
       "687  100     1      1  \n",
       "688  120    12      1  \n",
       "689  560     1      1  \n",
       "\n",
       "[690 rows x 16 columns]"
      ]
     },
     "execution_count": 67,
     "metadata": {},
     "output_type": "execute_result"
    }
   ],
   "source": [
    "dataset = pd.read_csv(\"D:\\IT\\IMT Courses\\Deep Learning\\SOM\\Project\\Credit_Card_Applications.csv\")\n",
    "dataset"
   ]
  },
  {
   "cell_type": "markdown",
   "id": "5a7f1591",
   "metadata": {},
   "source": [
    "# Define features and target "
   ]
  },
  {
   "cell_type": "code",
   "execution_count": 68,
   "id": "409e9fcf",
   "metadata": {},
   "outputs": [],
   "source": [
    "X = dataset.iloc[:, :-1].values\n",
    "y = dataset.iloc[:, -1].values"
   ]
  },
  {
   "cell_type": "markdown",
   "id": "9a1345a2",
   "metadata": {},
   "source": [
    "# Data normalize"
   ]
  },
  {
   "cell_type": "code",
   "execution_count": 69,
   "id": "dc1ae870",
   "metadata": {},
   "outputs": [],
   "source": [
    "sc = MinMaxScaler(feature_range=(0,1))\n",
    "X = sc.fit_transform(X)"
   ]
  },
  {
   "cell_type": "markdown",
   "id": "74c642cf",
   "metadata": {},
   "source": [
    "# Make model"
   ]
  },
  {
   "cell_type": "code",
   "execution_count": 70,
   "id": "a2db0183",
   "metadata": {},
   "outputs": [],
   "source": [
    "SOM = MiniSom(x=10, y=10, input_len=15)\n",
    "SOM.random_weights_init(X)\n",
    "SOM.train(data=X, num_iteration=135)"
   ]
  },
  {
   "cell_type": "markdown",
   "id": "dc212a21",
   "metadata": {},
   "source": [
    "# Distance map"
   ]
  },
  {
   "cell_type": "code",
   "execution_count": 71,
   "id": "51a85bc4",
   "metadata": {},
   "outputs": [
    {
     "data": {
      "text/plain": [
       "array([[0.28, 0.39, 0.49, 0.5 , 0.45, 0.39, 0.45, 0.41, 0.35, 0.32],\n",
       "       [0.35, 0.74, 0.51, 0.62, 0.74, 0.61, 0.79, 0.67, 0.67, 0.38],\n",
       "       [0.45, 0.56, 0.65, 0.55, 0.52, 0.6 , 0.49, 0.67, 0.7 , 0.39],\n",
       "       [0.45, 0.68, 0.64, 0.73, 0.61, 0.37, 0.55, 0.67, 0.62, 0.4 ],\n",
       "       [0.34, 0.64, 0.66, 0.69, 0.76, 0.59, 0.52, 0.82, 0.8 , 0.52],\n",
       "       [0.37, 0.68, 0.77, 0.7 , 0.73, 0.74, 0.67, 0.77, 0.84, 0.58],\n",
       "       [0.53, 0.88, 0.78, 0.75, 0.74, 0.61, 0.72, 0.68, 0.75, 0.44],\n",
       "       [0.63, 0.94, 0.88, 0.67, 0.74, 0.66, 0.64, 0.65, 0.59, 0.35],\n",
       "       [0.61, 0.82, 0.71, 1.  , 0.7 , 0.85, 0.69, 0.7 , 0.67, 0.41],\n",
       "       [0.33, 0.48, 0.53, 0.48, 0.54, 0.54, 0.49, 0.57, 0.36, 0.23]])"
      ]
     },
     "execution_count": 71,
     "metadata": {},
     "output_type": "execute_result"
    }
   ],
   "source": [
    "DistanceMap = SOM.distance_map().round(2)\n",
    "DistanceMap"
   ]
  },
  {
   "cell_type": "code",
   "execution_count": 72,
   "id": "0d0f59fe",
   "metadata": {},
   "outputs": [
    {
     "data": {
      "text/plain": [
       "<matplotlib.colorbar.Colorbar at 0x1e81376a190>"
      ]
     },
     "execution_count": 72,
     "metadata": {},
     "output_type": "execute_result"
    },
    {
     "data": {
      "image/png": "[encoded data removed]",
      "text/plain": [
       "<Figure size 432x288 with 2 Axes>"
      ]
     },
     "metadata": {
      "needs_background": "light"
     },
     "output_type": "display_data"
    }
   ],
   "source": [
    "pcolor(DistanceMap)\n",
    "colorbar()"
   ]
  },
  {
   "cell_type": "markdown",
   "id": "bd95b44e",
   "metadata": {},
   "source": [
    "# Neuron Selection"
   ]
  },
  {
   "cell_type": "code",
   "execution_count": 73,
   "id": "cc207c3d",
   "metadata": {},
   "outputs": [
    {
     "data": {
      "text/plain": [
       "15"
      ]
     },
     "execution_count": 73,
     "metadata": {},
     "output_type": "execute_result"
    }
   ],
   "source": [
    "index = [] #index contains the coordinates of the neurons\n",
    "for i in range(10):\n",
    "    for j in range(10):\n",
    "        if DistanceMap[i,j] < 0.4:\n",
    "            index.append([i,j])\n",
    "    \n",
    "len(index)"
   ]
  },
  {
   "cell_type": "markdown",
   "id": "0adfbbd1",
   "metadata": {},
   "source": [
    "# Mapping Neurons and Calculating Total Data Points"
   ]
  },
  {
   "cell_type": "code",
   "execution_count": 74,
   "id": "31a29d42",
   "metadata": {},
   "outputs": [
    {
     "data": {
      "text/plain": [
       "67"
      ]
     },
     "execution_count": 74,
     "metadata": {},
     "output_type": "execute_result"
    }
   ],
   "source": [
    "mappings = SOM.win_map(X)\n",
    "fraud_list = []\n",
    "summ = 0\n",
    "for x in index:\n",
    "    fraud_list.append(mappings[(x[0],x[1])])\n",
    "    summ += len(mappings[(x[0],x[1])])\n",
    "summ"
   ]
  },
  {
   "cell_type": "markdown",
   "id": "c0d90441",
   "metadata": {},
   "source": [
    "# Transforming Data Back to Original Scale "
   ]
  },
  {
   "cell_type": "code",
   "execution_count": 75,
   "id": "037c7919",
   "metadata": {},
   "outputs": [],
   "source": [
    "frauds = []\n",
    "for x in fraud_list:\n",
    "    for y in x:\n",
    "        frauds.append(y)\n",
    "        \n",
    "frauds_array = np.asarray(frauds)\n",
    "\n",
    "fraud_inverse_transformed = sc.inverse_transform(frauds)"
   ]
  },
  {
   "cell_type": "markdown",
   "id": "e0af45a3",
   "metadata": {},
   "source": [
    "# Counting Total Fraud Instances and Extracting Fraud IDs"
   ]
  },
  {
   "cell_type": "code",
   "execution_count": 76,
   "id": "69ecaf97",
   "metadata": {},
   "outputs": [
    {
     "name": "stdout",
     "output_type": "stream",
     "text": [
      "total frauds: 67\n"
     ]
    }
   ],
   "source": [
    "count = 0\n",
    "fraud_ID_list = []\n",
    "for x in fraud_inverse_transformed:\n",
    "    fraud_ID_list.append(x[0])\n",
    "print('total frauds:', len(fraud_ID_list))"
   ]
  },
  {
   "cell_type": "markdown",
   "id": "ecb6f275",
   "metadata": {},
   "source": [
    "# Evaluating Predictions"
   ]
  },
  {
   "cell_type": "code",
   "execution_count": 77,
   "id": "39357ed9",
   "metadata": {},
   "outputs": [],
   "source": [
    "right_prediction_index = []\n",
    "wrong_prediction_index = []\n",
    "for x in fraud_ID_list:\n",
    "    for index, customer_id in enumerate(dataset['CustomerID']):\n",
    "        if x == customer_id:\n",
    "            if dataset['Class'][index] == 0:\n",
    "                right_prediction_index.append(i)\n",
    "            else:\n",
    "                wrong_prediction_index.append(i)"
   ]
  },
  {
   "cell_type": "code",
   "execution_count": 78,
   "id": "a680e7f2",
   "metadata": {},
   "outputs": [
    {
     "name": "stdout",
     "output_type": "stream",
     "text": [
      "len right prediction index 56\n",
      "len wrong prediction index 11\n",
      "right prediction: 83.5820895522388\n"
     ]
    }
   ],
   "source": [
    "len_right_prediction_index = len(right_prediction_index)\n",
    "print('len right prediction index',len_right_prediction_index)\n",
    "\n",
    "len_wrong_prediction_index = len(wrong_prediction_index)\n",
    "print('len wrong prediction index',len_wrong_prediction_index)\n",
    "\n",
    "print('right prediction:', len_right_prediction_index/len(fraud_ID_list)*100)"
   ]
  },
  {
   "cell_type": "code",
   "execution_count": null,
   "id": "a18df511",
   "metadata": {},
   "outputs": [],
   "source": []
  }
 ],
 "metadata": {
  "kernelspec": {
   "display_name": "Python 3",
   "language": "python",
   "name": "python3"
  },
  "language_info": {
   "codemirror_mode": {
    "name": "ipython",
    "version": 3
   },
   "file_extension": ".py",
   "mimetype": "text/x-python",
   "name": "python",
   "nbconvert_exporter": "python",
   "pygments_lexer": "ipython3",
   "version": "3.8.8"
  }
 },
 "nbformat": 4,
 "nbformat_minor": 5
}
